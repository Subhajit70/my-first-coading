{
 "cells": [
  {
   "cell_type": "code",
   "execution_count": 1,
   "id": "d4300558-51dd-45a1-9101-755d838b443b",
   "metadata": {},
   "outputs": [
    {
     "data": {
      "text/plain": [
       "2"
      ]
     },
     "execution_count": 1,
     "metadata": {},
     "output_type": "execute_result"
    }
   ],
   "source": [
    "1+1"
   ]
  },
  {
   "cell_type": "code",
   "execution_count": 2,
   "id": "96378675-6800-49f4-bca2-b07738620d64",
   "metadata": {},
   "outputs": [],
   "source": [
    "a = 10"
   ]
  },
  {
   "cell_type": "code",
   "execution_count": 3,
   "id": "5bafc029-4bf8-4317-aecb-31ce8232d76d",
   "metadata": {},
   "outputs": [
    {
     "data": {
      "text/plain": [
       "10"
      ]
     },
     "execution_count": 3,
     "metadata": {},
     "output_type": "execute_result"
    }
   ],
   "source": [
    "a"
   ]
  },
  {
   "cell_type": "code",
   "execution_count": 4,
   "id": "52d13622-a802-49f8-8d81-4e8a79be4375",
   "metadata": {},
   "outputs": [],
   "source": [
    "subho = 234335235"
   ]
  },
  {
   "cell_type": "code",
   "execution_count": 5,
   "id": "64e7b187-5dae-4bce-9915-1bb69318049a",
   "metadata": {},
   "outputs": [
    {
     "data": {
      "text/plain": [
       "234335235"
      ]
     },
     "execution_count": 5,
     "metadata": {},
     "output_type": "execute_result"
    }
   ],
   "source": [
    "subho"
   ]
  },
  {
   "cell_type": "code",
   "execution_count": 6,
   "id": "b6ba44ca-584c-4219-a0f8-68c7bda5c7b8",
   "metadata": {},
   "outputs": [
    {
     "data": {
      "text/plain": [
       "int"
      ]
     },
     "execution_count": 6,
     "metadata": {},
     "output_type": "execute_result"
    }
   ],
   "source": [
    "type(a)"
   ]
  },
  {
   "cell_type": "code",
   "execution_count": 8,
   "id": "7caa8a00-61e4-48e8-9cc4-559a12eca757",
   "metadata": {},
   "outputs": [],
   "source": [
    "s = \"subhajit\""
   ]
  },
  {
   "cell_type": "code",
   "execution_count": 9,
   "id": "7d829281-336f-4b07-bea7-83c6d81ae9f0",
   "metadata": {},
   "outputs": [
    {
     "data": {
      "text/plain": [
       "str"
      ]
     },
     "execution_count": 9,
     "metadata": {},
     "output_type": "execute_result"
    }
   ],
   "source": [
    "type(s)"
   ]
  },
  {
   "cell_type": "code",
   "execution_count": 10,
   "id": "3bec7583-8cc1-4c29-8518-33adbe973a77",
   "metadata": {},
   "outputs": [
    {
     "data": {
      "text/plain": [
       "'subhajit'"
      ]
     },
     "execution_count": 10,
     "metadata": {},
     "output_type": "execute_result"
    }
   ],
   "source": [
    "s"
   ]
  },
  {
   "cell_type": "code",
   "execution_count": 11,
   "id": "d15174e6-cdfa-4c04-8525-d6f1dffb5130",
   "metadata": {},
   "outputs": [],
   "source": [
    "s1= \"this is my first pythone lecture\""
   ]
  },
  {
   "cell_type": "code",
   "execution_count": 12,
   "id": "ec80954d-5af8-414b-865f-2a53fe442e93",
   "metadata": {},
   "outputs": [
    {
     "data": {
      "text/plain": [
       "'this is my first pythone lecture'"
      ]
     },
     "execution_count": 12,
     "metadata": {},
     "output_type": "execute_result"
    }
   ],
   "source": [
    "s1"
   ]
  },
  {
   "cell_type": "code",
   "execution_count": 13,
   "id": "4ec9c7e7-6f78-41e9-9849-95223d3f285f",
   "metadata": {},
   "outputs": [
    {
     "data": {
      "text/plain": [
       "str"
      ]
     },
     "execution_count": 13,
     "metadata": {},
     "output_type": "execute_result"
    }
   ],
   "source": [
    "type(s1)"
   ]
  },
  {
   "cell_type": "code",
   "execution_count": 14,
   "id": "4e3f6d83-87cd-4e2c-ad18-02df0440bc63",
   "metadata": {},
   "outputs": [],
   "source": [
    "f = 456.676"
   ]
  },
  {
   "cell_type": "code",
   "execution_count": 15,
   "id": "54aac044-8a2a-4b5d-8753-8162cd6e598d",
   "metadata": {},
   "outputs": [
    {
     "data": {
      "text/plain": [
       "float"
      ]
     },
     "execution_count": 15,
     "metadata": {},
     "output_type": "execute_result"
    }
   ],
   "source": [
    "type(f)"
   ]
  },
  {
   "cell_type": "code",
   "execution_count": 16,
   "id": "45b0f348-0eb5-4bb7-a5fc-2d28772a086b",
   "metadata": {},
   "outputs": [],
   "source": [
    "c = 5+6j"
   ]
  },
  {
   "cell_type": "code",
   "execution_count": 17,
   "id": "f84ff1a5-39d3-4757-b8d6-c16a15832964",
   "metadata": {},
   "outputs": [
    {
     "data": {
      "text/plain": [
       "complex"
      ]
     },
     "execution_count": 17,
     "metadata": {},
     "output_type": "execute_result"
    }
   ],
   "source": [
    "type(c)"
   ]
  },
  {
   "cell_type": "code",
   "execution_count": 18,
   "id": "8db76ceb-869d-4b66-b4bd-3e9879adbfe3",
   "metadata": {},
   "outputs": [
    {
     "data": {
      "text/plain": [
       "(5+6j)"
      ]
     },
     "execution_count": 18,
     "metadata": {},
     "output_type": "execute_result"
    }
   ],
   "source": [
    "c"
   ]
  },
  {
   "cell_type": "code",
   "execution_count": 22,
   "id": "5b80ff67-f929-4572-bc73-8b4ba8e61dee",
   "metadata": {},
   "outputs": [
    {
     "data": {
      "text/plain": [
       "5.0"
      ]
     },
     "execution_count": 22,
     "metadata": {},
     "output_type": "execute_result"
    }
   ],
   "source": [
    "c.real"
   ]
  },
  {
   "cell_type": "code",
   "execution_count": 25,
   "id": "62340ae0-0313-4db4-989c-344044520862",
   "metadata": {},
   "outputs": [],
   "source": [
    "b = True"
   ]
  },
  {
   "cell_type": "code",
   "execution_count": 26,
   "id": "1ebe5e13-6f46-4b99-ba2b-29728c9d78b0",
   "metadata": {},
   "outputs": [
    {
     "data": {
      "text/plain": [
       "bool"
      ]
     },
     "execution_count": 26,
     "metadata": {},
     "output_type": "execute_result"
    }
   ],
   "source": [
    "type(b)"
   ]
  },
  {
   "cell_type": "code",
   "execution_count": 27,
   "id": "9bb90f25-c340-4a57-9519-045c2317e84e",
   "metadata": {},
   "outputs": [],
   "source": [
    "b1 = False"
   ]
  },
  {
   "cell_type": "code",
   "execution_count": 28,
   "id": "1081235e-9be4-4efe-b972-155fdbb72452",
   "metadata": {},
   "outputs": [
    {
     "data": {
      "text/plain": [
       "False"
      ]
     },
     "execution_count": 28,
     "metadata": {},
     "output_type": "execute_result"
    }
   ],
   "source": [
    "b1"
   ]
  },
  {
   "cell_type": "code",
   "execution_count": 29,
   "id": "f6138003-ee06-4f3e-85fa-cae1d0d15e4e",
   "metadata": {},
   "outputs": [
    {
     "data": {
      "text/plain": [
       "bool"
      ]
     },
     "execution_count": 29,
     "metadata": {},
     "output_type": "execute_result"
    }
   ],
   "source": [
    "type(b1)"
   ]
  },
  {
   "cell_type": "code",
   "execution_count": 30,
   "id": "c3848028-2d3c-4e9a-a3e5-43016004f429",
   "metadata": {},
   "outputs": [],
   "source": [
    "a1 =45\n",
    "a2 =34"
   ]
  },
  {
   "cell_type": "code",
   "execution_count": 31,
   "id": "04723a78-bb69-4f22-bd7c-8014dd7c7608",
   "metadata": {},
   "outputs": [
    {
     "data": {
      "text/plain": [
       "79"
      ]
     },
     "execution_count": 31,
     "metadata": {},
     "output_type": "execute_result"
    }
   ],
   "source": [
    "a1+a2"
   ]
  },
  {
   "cell_type": "code",
   "execution_count": 32,
   "id": "84782ad2-63a0-4139-a277-6c12fb2267b1",
   "metadata": {},
   "outputs": [
    {
     "data": {
      "text/plain": [
       "1530"
      ]
     },
     "execution_count": 32,
     "metadata": {},
     "output_type": "execute_result"
    }
   ],
   "source": [
    "a1*a2"
   ]
  },
  {
   "cell_type": "code",
   "execution_count": 33,
   "id": "14754559-18db-43fb-81f4-55880fbd7e5b",
   "metadata": {},
   "outputs": [
    {
     "data": {
      "text/plain": [
       "1.3235294117647058"
      ]
     },
     "execution_count": 33,
     "metadata": {},
     "output_type": "execute_result"
    }
   ],
   "source": [
    "a1/a2"
   ]
  },
  {
   "cell_type": "code",
   "execution_count": 36,
   "id": "df7792f7-16e1-4fc9-a92f-08c352d61392",
   "metadata": {},
   "outputs": [
    {
     "data": {
      "text/plain": [
       "11"
      ]
     },
     "execution_count": 36,
     "metadata": {},
     "output_type": "execute_result"
    }
   ],
   "source": [
    "a1-a2"
   ]
  },
  {
   "cell_type": "code",
   "execution_count": 38,
   "id": "df8719c1-364d-4c02-967f-fbf0f06021f4",
   "metadata": {},
   "outputs": [],
   "source": [
    "a1,a2 = 34,45"
   ]
  },
  {
   "cell_type": "code",
   "execution_count": 53,
   "id": "92d2e75f-d912-4acb-97db-aff0eaaa413d",
   "metadata": {},
   "outputs": [
    {
     "data": {
      "text/plain": [
       "34"
      ]
     },
     "execution_count": 53,
     "metadata": {},
     "output_type": "execute_result"
    }
   ],
   "source": [
    "a1"
   ]
  },
  {
   "cell_type": "code",
   "execution_count": 54,
   "id": "2a52c4c3-7361-421b-870b-2d9fc8bb5f33",
   "metadata": {},
   "outputs": [],
   "source": [
    "b1 = True"
   ]
  },
  {
   "cell_type": "code",
   "execution_count": 55,
   "id": "f1ffcb94-7c0a-495f-9745-5067f32ddbc4",
   "metadata": {},
   "outputs": [],
   "source": [
    "b2 =False"
   ]
  },
  {
   "cell_type": "code",
   "execution_count": 56,
   "id": "30ddb4bd-d837-4647-bf67-473c4f7946a0",
   "metadata": {},
   "outputs": [
    {
     "data": {
      "text/plain": [
       "1"
      ]
     },
     "execution_count": 56,
     "metadata": {},
     "output_type": "execute_result"
    }
   ],
   "source": [
    "b1-b2"
   ]
  },
  {
   "cell_type": "code",
   "execution_count": 57,
   "id": "69cd66d1-78fe-47bd-a478-0ab8a66b0acf",
   "metadata": {},
   "outputs": [
    {
     "data": {
      "text/plain": [
       "1"
      ]
     },
     "execution_count": 57,
     "metadata": {},
     "output_type": "execute_result"
    }
   ],
   "source": [
    "b1*b1"
   ]
  },
  {
   "cell_type": "code",
   "execution_count": 59,
   "id": "19196c2a-b184-4abe-a2ee-8e4fa1657d3c",
   "metadata": {},
   "outputs": [
    {
     "ename": "ZeroDivisionError",
     "evalue": "division by zero",
     "output_type": "error",
     "traceback": [
      "\u001b[0;31m---------------------------------------------------------------------------\u001b[0m",
      "\u001b[0;31mZeroDivisionError\u001b[0m                         Traceback (most recent call last)",
      "Cell \u001b[0;32mIn[59], line 1\u001b[0m\n\u001b[0;32m----> 1\u001b[0m \u001b[43mb1\u001b[49m\u001b[38;5;241;43m/\u001b[39;49m\u001b[43mb2\u001b[49m\n",
      "\u001b[0;31mZeroDivisionError\u001b[0m: division by zero"
     ]
    }
   ],
   "source": [
    "b1/b2"
   ]
  },
  {
   "cell_type": "code",
   "execution_count": 60,
   "id": "4c7e1d93-3df6-44c8-a973-0a3286947316",
   "metadata": {},
   "outputs": [],
   "source": [
    "s1 = 'my name is subho'"
   ]
  },
  {
   "cell_type": "code",
   "execution_count": 61,
   "id": "6cbbd0df-5ea9-432f-9014-aac2b2d19e3a",
   "metadata": {},
   "outputs": [
    {
     "data": {
      "text/plain": [
       "'my name is subho'"
      ]
     },
     "execution_count": 61,
     "metadata": {},
     "output_type": "execute_result"
    }
   ],
   "source": [
    "s1"
   ]
  },
  {
   "cell_type": "code",
   "execution_count": 62,
   "id": "534e8c21-22eb-42da-85b5-f15d7fef8ced",
   "metadata": {},
   "outputs": [
    {
     "data": {
      "text/plain": [
       "str"
      ]
     },
     "execution_count": 62,
     "metadata": {},
     "output_type": "execute_result"
    }
   ],
   "source": [
    "type(s1)"
   ]
  },
  {
   "cell_type": "code",
   "execution_count": 67,
   "id": "a4af88a4-9599-4ff8-8f34-71ae63cbc016",
   "metadata": {},
   "outputs": [],
   "source": [
    "s2 =\"this is my first python for data science master's\""
   ]
  },
  {
   "cell_type": "code",
   "execution_count": 68,
   "id": "60ef5c4d-8fc2-41dd-a89a-c5943182ad54",
   "metadata": {},
   "outputs": [
    {
     "data": {
      "text/plain": [
       "\"this is my first python for data science master's\""
      ]
     },
     "execution_count": 68,
     "metadata": {},
     "output_type": "execute_result"
    }
   ],
   "source": [
    "s2"
   ]
  },
  {
   "cell_type": "code",
   "execution_count": 72,
   "id": "2a0a8f30-2407-4f77-acbe-b9d4c84b538a",
   "metadata": {},
   "outputs": [
    {
     "ename": "SyntaxError",
     "evalue": "unterminated string literal (detected at line 3) (3334481782.py, line 3)",
     "output_type": "error",
     "traceback": [
      "\u001b[0;36m  Cell \u001b[0;32mIn[72], line 3\u001b[0;36m\u001b[0m\n\u001b[0;31m    s2 ='this is my first python for data science master's\"\u001b[0m\n\u001b[0m                                                          ^\u001b[0m\n\u001b[0;31mSyntaxError\u001b[0m\u001b[0;31m:\u001b[0m unterminated string literal (detected at line 3)\n"
     ]
    }
   ],
   "source": [
    "#this is my code to creat a string variable with quotes\n",
    "\n",
    "s2 ='this is my first python for data science masters\""
   ]
  },
  {
   "cell_type": "code",
   "execution_count": 73,
   "id": "c1c9e358-c9a0-443a-96f4-017a3c0eea52",
   "metadata": {},
   "outputs": [],
   "source": [
    "#this is my first python class \n",
    "#i am trying to learn variable declaration\n",
    "#so far i have learnt int, boolean, string. complex number , float variable declaration' ' '\n",
    "a=10\n"
   ]
  },
  {
   "cell_type": "code",
   "execution_count": 74,
   "id": "ef2c13ab-e74b-45fa-b0ae-7cde8acb4f31",
   "metadata": {},
   "outputs": [],
   "source": [
    "s1= \"subho\""
   ]
  },
  {
   "cell_type": "code",
   "execution_count": 75,
   "id": "34961dd7-c33d-40b9-a03b-e4ba9510526f",
   "metadata": {},
   "outputs": [],
   "source": [
    "a= 10"
   ]
  },
  {
   "cell_type": "code",
   "execution_count": 76,
   "id": "5574fbd9-dfa8-43ba-9400-7117094b1816",
   "metadata": {},
   "outputs": [
    {
     "ename": "TypeError",
     "evalue": "can only concatenate str (not \"int\") to str",
     "output_type": "error",
     "traceback": [
      "\u001b[0;31m---------------------------------------------------------------------------\u001b[0m",
      "\u001b[0;31mTypeError\u001b[0m                                 Traceback (most recent call last)",
      "Cell \u001b[0;32mIn[76], line 1\u001b[0m\n\u001b[0;32m----> 1\u001b[0m \u001b[43ms1\u001b[49m\u001b[38;5;241;43m+\u001b[39;49m\u001b[43ma\u001b[49m\n",
      "\u001b[0;31mTypeError\u001b[0m: can only concatenate str (not \"int\") to str"
     ]
    }
   ],
   "source": [
    "s1+a"
   ]
  },
  {
   "cell_type": "code",
   "execution_count": 77,
   "id": "a59e1a0e-b9e8-4a02-9fe6-2e1bc127d221",
   "metadata": {},
   "outputs": [
    {
     "data": {
      "text/plain": [
       "'subhoraj'"
      ]
     },
     "execution_count": 77,
     "metadata": {},
     "output_type": "execute_result"
    }
   ],
   "source": [
    "'subho' + 'raj'"
   ]
  },
  {
   "cell_type": "code",
   "execution_count": 78,
   "id": "4cca96f3-7e85-4b18-a645-6a03b1ac0982",
   "metadata": {},
   "outputs": [
    {
     "data": {
      "text/plain": [
       "int"
      ]
     },
     "execution_count": 78,
     "metadata": {},
     "output_type": "execute_result"
    }
   ],
   "source": [
    "type(a)"
   ]
  },
  {
   "cell_type": "code",
   "execution_count": 81,
   "id": "6238e977-28e0-47b0-a87d-bb628046cc5c",
   "metadata": {},
   "outputs": [
    {
     "data": {
      "text/plain": [
       "'10'"
      ]
     },
     "execution_count": 81,
     "metadata": {},
     "output_type": "execute_result"
    }
   ],
   "source": [
    "str(a)"
   ]
  },
  {
   "cell_type": "code",
   "execution_count": 82,
   "id": "9c3a8fce-4576-414b-b5f4-27aa85401c61",
   "metadata": {},
   "outputs": [
    {
     "data": {
      "text/plain": [
       "'10'"
      ]
     },
     "execution_count": 82,
     "metadata": {},
     "output_type": "execute_result"
    }
   ],
   "source": [
    "'10'"
   ]
  },
  {
   "cell_type": "code",
   "execution_count": 83,
   "id": "f306b79c-0954-4c71-a348-8a0562a9f821",
   "metadata": {},
   "outputs": [
    {
     "data": {
      "text/plain": [
       "'subho 10'"
      ]
     },
     "execution_count": 83,
     "metadata": {},
     "output_type": "execute_result"
    }
   ],
   "source": [
    "s1 + \" \" + str(10)"
   ]
  },
  {
   "cell_type": "code",
   "execution_count": 84,
   "id": "40ee14e3-87eb-42ef-a65d-b3f61c8e791d",
   "metadata": {},
   "outputs": [],
   "source": [
    "b = str(a)"
   ]
  },
  {
   "cell_type": "code",
   "execution_count": 85,
   "id": "29806a25-e1e1-46c1-ae62-7276df3e82a7",
   "metadata": {},
   "outputs": [
    {
     "data": {
      "text/plain": [
       "'10'"
      ]
     },
     "execution_count": 85,
     "metadata": {},
     "output_type": "execute_result"
    }
   ],
   "source": [
    "b"
   ]
  },
  {
   "cell_type": "code",
   "execution_count": 87,
   "id": "bb14b699-d8f0-43e6-af9f-bea66c139db7",
   "metadata": {},
   "outputs": [
    {
     "data": {
      "text/plain": [
       "10"
      ]
     },
     "execution_count": 87,
     "metadata": {},
     "output_type": "execute_result"
    }
   ],
   "source": [
    "int(b)"
   ]
  },
  {
   "cell_type": "code",
   "execution_count": 88,
   "id": "9513de44-d9c3-4a42-8337-7542c688429d",
   "metadata": {},
   "outputs": [],
   "source": [
    "s = 'subho'"
   ]
  },
  {
   "cell_type": "code",
   "execution_count": 89,
   "id": "573c717b-2b21-4f50-a9c9-2ebb58d491ad",
   "metadata": {},
   "outputs": [
    {
     "ename": "ValueError",
     "evalue": "invalid literal for int() with base 10: 'subho'",
     "output_type": "error",
     "traceback": [
      "\u001b[0;31m---------------------------------------------------------------------------\u001b[0m",
      "\u001b[0;31mValueError\u001b[0m                                Traceback (most recent call last)",
      "Cell \u001b[0;32mIn[89], line 1\u001b[0m\n\u001b[0;32m----> 1\u001b[0m \u001b[38;5;28;43mint\u001b[39;49m\u001b[43m(\u001b[49m\u001b[43ms\u001b[49m\u001b[43m)\u001b[49m\n",
      "\u001b[0;31mValueError\u001b[0m: invalid literal for int() with base 10: 'subho'"
     ]
    }
   ],
   "source": [
    "int(s)"
   ]
  },
  {
   "cell_type": "code",
   "execution_count": 90,
   "id": "5758a706-b942-4a88-b974-ac58e389c3c9",
   "metadata": {},
   "outputs": [],
   "source": [
    "a = 453253"
   ]
  },
  {
   "cell_type": "code",
   "execution_count": null,
   "id": "9397086e-2264-4996-ad44-e7203e1b5540",
   "metadata": {},
   "outputs": [],
   "source": [
    "b = input()"
   ]
  },
  {
   "cell_type": "code",
   "execution_count": 1,
   "id": "d18d8a86-7e58-4a76-8b1f-fd038f4b4874",
   "metadata": {},
   "outputs": [
    {
     "ename": "NameError",
     "evalue": "name 'b' is not defined",
     "output_type": "error",
     "traceback": [
      "\u001b[0;31m---------------------------------------------------------------------------\u001b[0m",
      "\u001b[0;31mNameError\u001b[0m                                 Traceback (most recent call last)",
      "Cell \u001b[0;32mIn[1], line 1\u001b[0m\n\u001b[0;32m----> 1\u001b[0m \u001b[43mb\u001b[49m\n",
      "\u001b[0;31mNameError\u001b[0m: name 'b' is not defined"
     ]
    }
   ],
   "source": [
    "b"
   ]
  },
  {
   "cell_type": "code",
   "execution_count": null,
   "id": "eb86bcec-8ef1-4d0d-8b7e-432576cae555",
   "metadata": {},
   "outputs": [],
   "source": [
    "d =input()"
   ]
  },
  {
   "cell_type": "code",
   "execution_count": 4,
   "id": "7fcfbea5-9197-4261-9684-57b7da5c954a",
   "metadata": {},
   "outputs": [
    {
     "name": "stdin",
     "output_type": "stream",
     "text": [
      " true\n"
     ]
    }
   ],
   "source": [
    "d = bool(input())"
   ]
  },
  {
   "cell_type": "code",
   "execution_count": 2,
   "id": "d85d74d7-487c-4f78-a82c-914ac55d09a4",
   "metadata": {},
   "outputs": [
    {
     "data": {
      "text/plain": [
       "'44454344'"
      ]
     },
     "execution_count": 2,
     "metadata": {},
     "output_type": "execute_result"
    }
   ],
   "source": [
    "d"
   ]
  },
  {
   "cell_type": "code",
   "execution_count": 3,
   "id": "251b60bc-c045-40f1-bd0a-f9a28c8cf224",
   "metadata": {},
   "outputs": [
    {
     "data": {
      "text/plain": [
       "str"
      ]
     },
     "execution_count": 3,
     "metadata": {},
     "output_type": "execute_result"
    }
   ],
   "source": [
    "type(d)\n"
   ]
  },
  {
   "cell_type": "code",
   "execution_count": 5,
   "id": "612cf456-ffde-441f-8154-8af0c8a60ed4",
   "metadata": {},
   "outputs": [
    {
     "data": {
      "text/plain": [
       "True"
      ]
     },
     "execution_count": 5,
     "metadata": {},
     "output_type": "execute_result"
    }
   ],
   "source": [
    "d"
   ]
  },
  {
   "cell_type": "code",
   "execution_count": 6,
   "id": "a5fc63ff-cc0c-42b8-8cb4-8175e75226dc",
   "metadata": {},
   "outputs": [
    {
     "data": {
      "text/plain": [
       "bool"
      ]
     },
     "execution_count": 6,
     "metadata": {},
     "output_type": "execute_result"
    }
   ],
   "source": [
    "type(d)"
   ]
  },
  {
   "cell_type": "code",
   "execution_count": 7,
   "id": "577e0fda-9757-418e-8a12-5b0db5012201",
   "metadata": {},
   "outputs": [],
   "source": [
    "s = 'subho'"
   ]
  },
  {
   "cell_type": "code",
   "execution_count": 8,
   "id": "b046de78-b31f-4423-b1fb-94f63667d970",
   "metadata": {},
   "outputs": [
    {
     "data": {
      "text/plain": [
       "'u'"
      ]
     },
     "execution_count": 8,
     "metadata": {},
     "output_type": "execute_result"
    }
   ],
   "source": [
    "s[1]"
   ]
  },
  {
   "cell_type": "code",
   "execution_count": 9,
   "id": "2e2b9e42-5b25-44b4-a1ed-d9a1d3d6e304",
   "metadata": {},
   "outputs": [
    {
     "data": {
      "text/plain": [
       "'h'"
      ]
     },
     "execution_count": 9,
     "metadata": {},
     "output_type": "execute_result"
    }
   ],
   "source": [
    "s[3]"
   ]
  },
  {
   "cell_type": "code",
   "execution_count": 10,
   "id": "aca82fcc-df10-45a0-b0d9-bbc74a0d7bc2",
   "metadata": {},
   "outputs": [
    {
     "data": {
      "text/plain": [
       "'o'"
      ]
     },
     "execution_count": 10,
     "metadata": {},
     "output_type": "execute_result"
    }
   ],
   "source": [
    "s[-1]"
   ]
  },
  {
   "cell_type": "code",
   "execution_count": 11,
   "id": "b7cb4e22-9b31-4ce9-bee8-9291a2a6c423",
   "metadata": {},
   "outputs": [
    {
     "ename": "IndexError",
     "evalue": "string index out of range",
     "output_type": "error",
     "traceback": [
      "\u001b[0;31m---------------------------------------------------------------------------\u001b[0m",
      "\u001b[0;31mIndexError\u001b[0m                                Traceback (most recent call last)",
      "Cell \u001b[0;32mIn[11], line 1\u001b[0m\n\u001b[0;32m----> 1\u001b[0m \u001b[43ms\u001b[49m\u001b[43m[\u001b[49m\u001b[38;5;241;43m100\u001b[39;49m\u001b[43m]\u001b[49m\n",
      "\u001b[0;31mIndexError\u001b[0m: string index out of range"
     ]
    }
   ],
   "source": [
    "s[100]"
   ]
  },
  {
   "cell_type": "code",
   "execution_count": 12,
   "id": "069ae26a-7ae5-4608-9b53-acb9567c46fb",
   "metadata": {},
   "outputs": [
    {
     "data": {
      "text/plain": [
       "'h'"
      ]
     },
     "execution_count": 12,
     "metadata": {},
     "output_type": "execute_result"
    }
   ],
   "source": [
    "s[-2]"
   ]
  },
  {
   "cell_type": "code",
   "execution_count": 13,
   "id": "4fe3badc-6da4-4f4f-96e8-0ecbdcb3084f",
   "metadata": {},
   "outputs": [
    {
     "data": {
      "text/plain": [
       "'u'"
      ]
     },
     "execution_count": 13,
     "metadata": {},
     "output_type": "execute_result"
    }
   ],
   "source": [
    "s[-4]"
   ]
  },
  {
   "cell_type": "code",
   "execution_count": 16,
   "id": "04fe8178-ec61-489d-b8e7-36b05d4ad193",
   "metadata": {},
   "outputs": [
    {
     "ename": "IndexError",
     "evalue": "string index out of range",
     "output_type": "error",
     "traceback": [
      "\u001b[0;31m---------------------------------------------------------------------------\u001b[0m",
      "\u001b[0;31mIndexError\u001b[0m                                Traceback (most recent call last)",
      "Cell \u001b[0;32mIn[16], line 1\u001b[0m\n\u001b[0;32m----> 1\u001b[0m \u001b[43ms\u001b[49m\u001b[43m[\u001b[49m\u001b[38;5;241;43m-\u001b[39;49m\u001b[38;5;241;43m34\u001b[39;49m\u001b[43m]\u001b[49m\n",
      "\u001b[0;31mIndexError\u001b[0m: string index out of range"
     ]
    }
   ],
   "source": [
    "s[-34]\n"
   ]
  },
  {
   "cell_type": "code",
   "execution_count": 23,
   "id": "e08a4942-cd49-443c-8494-f1a5ac2e895d",
   "metadata": {},
   "outputs": [],
   "source": [
    "s1 = 'subhajitraj'"
   ]
  },
  {
   "cell_type": "code",
   "execution_count": 24,
   "id": "daf2d7be-a26b-46c4-a728-c02557057596",
   "metadata": {},
   "outputs": [
    {
     "data": {
      "text/plain": [
       "'su'"
      ]
     },
     "execution_count": 24,
     "metadata": {},
     "output_type": "execute_result"
    }
   ],
   "source": [
    "s1[0:2]"
   ]
  },
  {
   "cell_type": "code",
   "execution_count": 26,
   "id": "5bae12c0-3ef7-4b96-8835-b29d994232e4",
   "metadata": {},
   "outputs": [
    {
     "data": {
      "text/plain": [
       "'hajitr'"
      ]
     },
     "execution_count": 26,
     "metadata": {},
     "output_type": "execute_result"
    }
   ],
   "source": [
    "s1[3:9]"
   ]
  },
  {
   "cell_type": "code",
   "execution_count": 27,
   "id": "b35a0049-bc1f-4fdf-901d-81e957dacf05",
   "metadata": {},
   "outputs": [
    {
     "data": {
      "text/plain": [
       "'traj'"
      ]
     },
     "execution_count": 27,
     "metadata": {},
     "output_type": "execute_result"
    }
   ],
   "source": [
    "s1[7:11]"
   ]
  },
  {
   "cell_type": "code",
   "execution_count": 28,
   "id": "f1345f18-81db-4a57-b0e3-3bb56eb322b7",
   "metadata": {},
   "outputs": [
    {
     "data": {
      "text/plain": [
       "'traj'"
      ]
     },
     "execution_count": 28,
     "metadata": {},
     "output_type": "execute_result"
    }
   ],
   "source": [
    "s1[7:800]"
   ]
  },
  {
   "cell_type": "code",
   "execution_count": 29,
   "id": "cdcecf0d-805a-4b92-a192-c345e8537868",
   "metadata": {},
   "outputs": [
    {
     "data": {
      "text/plain": [
       "'su'"
      ]
     },
     "execution_count": 29,
     "metadata": {},
     "output_type": "execute_result"
    }
   ],
   "source": [
    "s1[:2]"
   ]
  },
  {
   "cell_type": "code",
   "execution_count": 30,
   "id": "15b7bebf-183e-453e-aebf-369285329561",
   "metadata": {},
   "outputs": [
    {
     "data": {
      "text/plain": [
       "'bhajitraj'"
      ]
     },
     "execution_count": 30,
     "metadata": {},
     "output_type": "execute_result"
    }
   ],
   "source": [
    "s1[2:]"
   ]
  },
  {
   "cell_type": "code",
   "execution_count": 31,
   "id": "993f2564-06b6-4db6-ba59-08cf61863e8a",
   "metadata": {},
   "outputs": [
    {
     "data": {
      "text/plain": [
       "'subha'"
      ]
     },
     "execution_count": 31,
     "metadata": {},
     "output_type": "execute_result"
    }
   ],
   "source": [
    "s1[0:5:1]"
   ]
  },
  {
   "cell_type": "code",
   "execution_count": 32,
   "id": "eb276308-232e-4670-b7aa-d3d5d1c86469",
   "metadata": {},
   "outputs": [
    {
     "data": {
      "text/plain": [
       "'shi'"
      ]
     },
     "execution_count": 32,
     "metadata": {},
     "output_type": "execute_result"
    }
   ],
   "source": [
    "s1[0:7:3]"
   ]
  },
  {
   "cell_type": "code",
   "execution_count": 34,
   "id": "6786d82f-726a-4458-99e5-6216d72be574",
   "metadata": {},
   "outputs": [
    {
     "data": {
      "text/plain": [
       "'ja'"
      ]
     },
     "execution_count": 34,
     "metadata": {},
     "output_type": "execute_result"
    }
   ],
   "source": [
    "s1[11:8:-1]"
   ]
  },
  {
   "cell_type": "code",
   "execution_count": 37,
   "id": "8619054e-f7ba-441f-9f5c-3f9c9fe3ca1d",
   "metadata": {},
   "outputs": [
    {
     "data": {
      "text/plain": [
       "'jart'"
      ]
     },
     "execution_count": 37,
     "metadata": {},
     "output_type": "execute_result"
    }
   ],
   "source": [
    "s1[-1:-5:-1]"
   ]
  },
  {
   "cell_type": "code",
   "execution_count": 41,
   "id": "05035517-4c42-45d7-a043-a53b3dc0fc2e",
   "metadata": {},
   "outputs": [
    {
     "data": {
      "text/plain": [
       "'jartijahbus'"
      ]
     },
     "execution_count": 41,
     "metadata": {},
     "output_type": "execute_result"
    }
   ],
   "source": [
    "s1[10::-1]"
   ]
  },
  {
   "cell_type": "code",
   "execution_count": 42,
   "id": "7733bb15-d1eb-4279-9b08-4ab9400a8f3e",
   "metadata": {},
   "outputs": [
    {
     "data": {
      "text/plain": [
       "'jartijahbus'"
      ]
     },
     "execution_count": 42,
     "metadata": {},
     "output_type": "execute_result"
    }
   ],
   "source": [
    "s1[::-1]"
   ]
  },
  {
   "cell_type": "code",
   "execution_count": 47,
   "id": "31eda96c-f7d4-42cd-a322-67f9eed7f98c",
   "metadata": {},
   "outputs": [
    {
     "ename": "TypeError",
     "evalue": "'str' object does not support item assignment",
     "output_type": "error",
     "traceback": [
      "\u001b[0;31m---------------------------------------------------------------------------\u001b[0m",
      "\u001b[0;31mTypeError\u001b[0m                                 Traceback (most recent call last)",
      "Cell \u001b[0;32mIn[47], line 1\u001b[0m\n\u001b[0;32m----> 1\u001b[0m \u001b[43ms1\u001b[49m\u001b[43m[\u001b[49m\u001b[38;5;241;43m0\u001b[39;49m\u001b[43m]\u001b[49m \u001b[38;5;241m=\u001b[39ms\n",
      "\u001b[0;31mTypeError\u001b[0m: 'str' object does not support item assignment"
     ]
    }
   ],
   "source": [
    "s1[0] =s"
   ]
  },
  {
   "cell_type": "code",
   "execution_count": 44,
   "id": "8dfd1762-1013-4ba1-9d1f-5ae4f685fc63",
   "metadata": {},
   "outputs": [],
   "source": [
    "a=10"
   ]
  },
  {
   "cell_type": "code",
   "execution_count": 45,
   "id": "7aaafc69-4b0d-4fb4-af98-663a773abadb",
   "metadata": {},
   "outputs": [],
   "source": [
    "a=20"
   ]
  },
  {
   "cell_type": "code",
   "execution_count": 46,
   "id": "4e4264e5-f6a4-436b-9fd1-1981dcddc9e0",
   "metadata": {},
   "outputs": [
    {
     "data": {
      "text/plain": [
       "20"
      ]
     },
     "execution_count": 46,
     "metadata": {},
     "output_type": "execute_result"
    }
   ],
   "source": [
    "a"
   ]
  },
  {
   "cell_type": "code",
   "execution_count": 48,
   "id": "1db4ac63-53eb-4e22-8619-fe55337b503f",
   "metadata": {},
   "outputs": [
    {
     "ename": "TypeError",
     "evalue": "'str' object does not support item assignment",
     "output_type": "error",
     "traceback": [
      "\u001b[0;31m---------------------------------------------------------------------------\u001b[0m",
      "\u001b[0;31mTypeError\u001b[0m                                 Traceback (most recent call last)",
      "Cell \u001b[0;32mIn[48], line 1\u001b[0m\n\u001b[0;32m----> 1\u001b[0m \u001b[43ms1\u001b[49m\u001b[43m[\u001b[49m\u001b[38;5;241;43m0\u001b[39;49m\u001b[43m]\u001b[49m \u001b[38;5;241m=\u001b[39m\u001b[38;5;124m'\u001b[39m\u001b[38;5;124mp\u001b[39m\u001b[38;5;124m'\u001b[39m\n",
      "\u001b[0;31mTypeError\u001b[0m: 'str' object does not support item assignment"
     ]
    }
   ],
   "source": [
    "s1[0] ='p'"
   ]
  },
  {
   "cell_type": "code",
   "execution_count": null,
   "id": "c3ca24df-d2c3-4644-a426-90965b8163ba",
   "metadata": {},
   "outputs": [],
   "source": []
  }
 ],
 "metadata": {
  "kernelspec": {
   "display_name": "Python 3 (ipykernel)",
   "language": "python",
   "name": "python3"
  },
  "language_info": {
   "codemirror_mode": {
    "name": "ipython",
    "version": 3
   },
   "file_extension": ".py",
   "mimetype": "text/x-python",
   "name": "python",
   "nbconvert_exporter": "python",
   "pygments_lexer": "ipython3",
   "version": "3.10.8"
  }
 },
 "nbformat": 4,
 "nbformat_minor": 5
}
